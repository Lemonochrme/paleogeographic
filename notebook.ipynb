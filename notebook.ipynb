{
 "cells": [
  {
   "cell_type": "markdown",
   "metadata": {},
   "source": [
    "# Paleonotebook"
   ]
  },
  {
   "cell_type": "code",
   "execution_count": 1,
   "metadata": {},
   "outputs": [],
   "source": [
    "# Import necessary packages\n",
    "import xarray as xr\n",
    "import matplotlib.pyplot as plt\n",
    "import numpy as np\n",
    "from matplotlib.colors import ListedColormap, BoundaryNorm, TwoSlopeNorm"
   ]
  },
  {
   "cell_type": "markdown",
   "metadata": {},
   "source": [
    "## Load dataset and extract data"
   ]
  },
  {
   "cell_type": "code",
   "execution_count": null,
   "metadata": {},
   "outputs": [],
   "source": [
    "# Load NetCDF file\n",
    "file_path = \"Scotese_Wright_2018_Maps_1-88_1degX1deg_PaleoDEMS_nc_v2\\\\Map05_PALEOMAP_1deg_middle_Late_Miocene_10Ma.nc\"\n",
    "\n",
    "ds = xr.open_dataset(file_path)\n",
    "\n",
    "# Extract data\n",
    "z = ds['z']\n",
    "lon = ds['lon']\n",
    "lat = ds['lat']"
   ]
  },
  {
   "cell_type": "code",
   "execution_count": null,
   "metadata": {},
   "outputs": [],
   "source": [
    "# Create custom colormap\n",
    "z_min = float(z.min())\n",
    "z_max = float(z.max())\n",
    "\n",
    "# Create separate colormaps\n",
    "land_cmap = ListedColormap(plt.get_cmap('terrain', 128)(np.linspace(0.5, 0.9, 128)))\n",
    "sea_cmap = ListedColormap(plt.get_cmap('Blues_r', 128)(np.linspace(0, 0.5, 128)))\n",
    "\n",
    "# Combine them into one\n",
    "combined_colors = np.vstack((\n",
    "    sea_cmap(np.linspace(0, 1, 128)),\n",
    "    land_cmap(np.linspace(0, 1, 128))\n",
    "))\n",
    "custom_cmap = ListedColormap(combined_colors)\n",
    "\n",
    "# Create a normalization that centers at zero\n",
    "divnorm = TwoSlopeNorm(vmin=z_min, vcenter=0, vmax=z_max)\n",
    "\n",
    "# Display map\n",
    "plt.figure(figsize=(16, 9))\n",
    "contour = plt.contourf(lon, lat, z, levels=100, cmap=custom_cmap, norm=divnorm)\n",
    "plt.colorbar(contour, label='Altitude (m)')\n",
    "plt.title('Paleogeographic Map - Miocene (15 Ma)')\n",
    "plt.xlabel('Longitude')\n",
    "plt.ylabel('Latitude')\n",
    "plt.grid(False)\n",
    "plt.tight_layout()\n",
    "plt.show()"
   ]
  }
 ],
 "metadata": {
  "kernelspec": {
   "display_name": "Python 3",
   "language": "python",
   "name": "python3"
  },
  "language_info": {
   "codemirror_mode": {
    "name": "ipython",
    "version": 3
   },
   "file_extension": ".py",
   "mimetype": "text/x-python",
   "name": "python",
   "nbconvert_exporter": "python",
   "pygments_lexer": "ipython3",
   "version": "3.11.9"
  }
 },
 "nbformat": 4,
 "nbformat_minor": 2
}
